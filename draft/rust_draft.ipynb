{
 "cells": [
  {
   "cell_type": "code",
   "execution_count": 16,
   "id": "a82e3b7b-9dff-4e9d-af88-c13cadcf5809",
   "metadata": {},
   "outputs": [
    {
     "ename": "Error",
     "evalue": "cannot assign twice to immutable variable `x`",
     "output_type": "error",
     "traceback": [
      "    let x = 5;",
      "\u001b[91m        ^\u001b[0m \u001b[94mfirst assignment to `x`\u001b[0m",
      "    x = 5;",
      "\u001b[91m    ^^^^^\u001b[0m \u001b[94mcannot assign twice to immutable variable\u001b[0m",
      "cannot assign twice to immutable variable `x`",
      "\u001b[1mhelp\u001b[0m: consider making this binding mutable\n\nmut x"
     ]
    }
   ],
   "source": [
    "fn main() {\n",
    "    let x = 5;\n",
    "    println!(\"Value x = {}\", x);\n",
    "    x = 5;\n",
    "    println!(\"Value x = {}\", x);\n",
    "}"
   ]
  },
  {
   "cell_type": "code",
   "execution_count": 3,
   "id": "58648036-ad62-4bcf-a871-73ecb93138b7",
   "metadata": {},
   "outputs": [
    {
     "ename": "Error",
     "evalue": "expected expression, found `%`",
     "output_type": "error",
     "traceback": [
      "%%capture",
      "\u001b[91m^\u001b[0m \u001b[94mexpected expression\u001b[0m",
      "expected expression, found `%`"
     ]
    },
    {
     "ename": "Error",
     "evalue": "expected function, found macro `print`",
     "output_type": "error",
     "traceback": [
      "    print(\"Value x = {}\", x);",
      "\u001b[91m    ^^^^^\u001b[0m \u001b[94mnot a function\u001b[0m",
      "expected function, found macro `print`",
      "\u001b[1mhelp\u001b[0m: use `!` to invoke the macro\n\n!"
     ]
    },
    {
     "ename": "Error",
     "evalue": "expected function, found macro `print`",
     "output_type": "error",
     "traceback": [
      "    print(\"Value x = {}\", x);",
      "\u001b[91m    ^^^^^\u001b[0m \u001b[94mnot a function\u001b[0m",
      "expected function, found macro `print`",
      "\u001b[1mhelp\u001b[0m: use `!` to invoke the macro\n\n!"
     ]
    }
   ],
   "source": [
    "%%capture\n",
    "fn main() {\n",
    "    let mut x = 22;\n",
    "    print(\"Value x = {}\", x);\n",
    "    x = 6;\n",
    "    print(\"Value x = {}\", x);\n",
    "}"
   ]
  },
  {
   "cell_type": "code",
   "execution_count": null,
   "id": "8c59bca5-9cf6-434f-8dc9-c11b86f1fc18",
   "metadata": {},
   "outputs": [],
   "source": []
  },
  {
   "cell_type": "code",
   "execution_count": null,
   "id": "f90dd48b-44f1-42bd-bdd5-f9e11074ab55",
   "metadata": {},
   "outputs": [],
   "source": []
  }
 ],
 "metadata": {
  "kernelspec": {
   "display_name": "Rust",
   "language": "rust",
   "name": "rust"
  },
  "language_info": {
   "codemirror_mode": "rust",
   "file_extension": ".rs",
   "mimetype": "text/rust",
   "name": "Rust",
   "pygment_lexer": "rust",
   "version": ""
  }
 },
 "nbformat": 4,
 "nbformat_minor": 5
}
